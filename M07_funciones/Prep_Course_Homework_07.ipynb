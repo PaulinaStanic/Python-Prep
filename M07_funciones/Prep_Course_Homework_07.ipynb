{
 "cells": [
  {
   "attachments": {},
   "cell_type": "markdown",
   "metadata": {},
   "source": [
    "## Funciones"
   ]
  },
  {
   "attachments": {},
   "cell_type": "markdown",
   "metadata": {},
   "source": [
    "1) Crear una función que reciba un número como parámetro y devuelva True si es primo y False si no lo es"
   ]
  },
  {
   "cell_type": "code",
   "execution_count": 10,
   "metadata": {},
   "outputs": [
    {
     "data": {
      "text/plain": [
       "True"
      ]
     },
     "execution_count": 10,
     "metadata": {},
     "output_type": "execute_result"
    }
   ],
   "source": [
    "def verificaPrimo(nro):\n",
    "    esPrimo = True\n",
    "    for i in range (2, nro):\n",
    "        if nro % i == 0:\n",
    "            esPrimo = False\n",
    "        break\n",
    "    return esPrimo\n",
    "\n",
    "verificaPrimo(11)"
   ]
  },
  {
   "attachments": {},
   "cell_type": "markdown",
   "metadata": {},
   "source": [
    "2) Utilizando la función del punto 1, realizar otra función que reciba de parámetro una lista de números y devuelva sólo aquellos que son primos en otra lista"
   ]
  },
  {
   "cell_type": "code",
   "execution_count": 18,
   "metadata": {},
   "outputs": [],
   "source": [
    "def devuelvePrimos(list):\n",
    "    listaPrimos = []\n",
    "    for nro in list:\n",
    "        if verificaPrimo(int(nro)):\n",
    "            listaPrimos.append(nro)\n",
    "    print(listaPrimos)"
   ]
  },
  {
   "cell_type": "code",
   "execution_count": 20,
   "metadata": {},
   "outputs": [
    {
     "name": "stdout",
     "output_type": "stream",
     "text": [
      "[1, 2, 3, 11]\n"
     ]
    }
   ],
   "source": [
    "list1 = [1,2,3,6,12,24,11]\n",
    "listaPrimos = devuelvePrimos(list1)\n",
    "listaPrimos"
   ]
  },
  {
   "attachments": {},
   "cell_type": "markdown",
   "metadata": {},
   "source": [
    "3) Crear una función que al recibir una lista de números, devuelva el que más se repite y cuántas veces lo hace. Si hay más de un \"más repetido\", que devuelva cualquiera"
   ]
  },
  {
   "cell_type": "code",
   "execution_count": 21,
   "metadata": {},
   "outputs": [],
   "source": [
    "def valorModal(lista):\n",
    "    listaUnicos = []\n",
    "    listaRepetidos = []\n",
    "    if len(lista) == 0:\n",
    "        return None\n",
    "    for elemento in lista:\n",
    "        if elemento in listaUnicos:\n",
    "            i = listaUnicos.index(elemento)\n",
    "            listaRepetidos[i] += 1\n",
    "        else:\n",
    "            listaUnicos.append(elemento)\n",
    "            listaRepetidos.append(1)\n",
    "    moda = listaUnicos[0]\n",
    "    maximo = listaRepetidos[0]\n",
    "    for i, elemento in enumerate(listaUnicos):\n",
    "        if listaRepetidos[i] > maximo:\n",
    "            moda = listaUnicos[i]\n",
    "            maximo = listaRepetidos [i]\n",
    "    return moda, maximo\n",
    "    \n"
   ]
  },
  {
   "cell_type": "code",
   "execution_count": 22,
   "metadata": {},
   "outputs": [
    {
     "name": "stdout",
     "output_type": "stream",
     "text": [
      "El número más repetido es 2  y se repite 11 veces\n"
     ]
    }
   ],
   "source": [
    "listaMuestra = [1,2,3,4,3,4,35,6,4,31,1,35,2,2,2,2,2,2,2,2,2,2]\n",
    "repetido, repeticiones = valorModal(listaMuestra)\n",
    "print('El número más repetido es', repetido, ' y se repite', repeticiones, 'veces')"
   ]
  },
  {
   "attachments": {},
   "cell_type": "markdown",
   "metadata": {},
   "source": [
    "4) A la función del punto 3, agregar un parámetro más, que permita elegir si se requiere el menor o el mayor de los mas repetidos."
   ]
  },
  {
   "cell_type": "code",
   "execution_count": 23,
   "metadata": {},
   "outputs": [],
   "source": [
    "def valorModalOrdenado(lista, menor):\n",
    "    listaUnicos = []\n",
    "    listaRepetidos = []\n",
    "    if len(lista) == 0:\n",
    "        return None\n",
    "    if (menor):\n",
    "        lista.sort()\n",
    "    else:\n",
    "        lista.sort(reverse=True)\n",
    "    for elemento in lista:\n",
    "        if elemento in listaUnicos:\n",
    "            i = listaUnicos.index(elemento)\n",
    "            listaRepetidos[i] += 1\n",
    "        else:\n",
    "            listaUnicos.append(elemento)\n",
    "            listaRepetidos.append(1)\n",
    "    moda = listaUnicos[0]\n",
    "    maximo = listaRepetidos[0]\n",
    "    for i, elemento in enumerate(listaUnicos):\n",
    "        if listaRepetidos[i] > maximo:\n",
    "            moda = listaUnicos[i]\n",
    "            maximo = listaRepetidos[i]\n",
    "    return moda, maximo"
   ]
  },
  {
   "cell_type": "code",
   "execution_count": 25,
   "metadata": {},
   "outputs": [
    {
     "name": "stdout",
     "output_type": "stream",
     "text": [
      "El número más repetido es 2  y se repite 11 veces\n"
     ]
    }
   ],
   "source": [
    "lista1 = [1,2,3,4,3,4,35,6,4,31,1,35,2,2,2,2,2,2,2,2,2,2, 36, 36, 36, 36, 35, 36, 36, 36, 36]\n",
    "repetido, repeticiones = valorModalOrdenado(lista1, False)\n",
    "print('El número más repetido es', repetido, ' y se repite', repeticiones, 'veces')"
   ]
  },
  {
   "attachments": {},
   "cell_type": "markdown",
   "metadata": {},
   "source": [
    "5) Crear una función que convierta entre grados Celsius, Farenheit y Kelvin<br>\n",
    "Fórmula 1\t: (°C × 9/5) + 32 = °F<br>\n",
    "Fórmula 2\t: °C + 273.15 = °K<br>\n",
    "Debe recibir 3 parámetros: el valor, la medida de orígen y la medida de destino\n"
   ]
  },
  {
   "cell_type": "code",
   "execution_count": 31,
   "metadata": {},
   "outputs": [],
   "source": [
    "def conversionGrados(valor, origen, destino):\n",
    "    '''\n",
    "    conversiónGrados es una función que recibe y devuelve 3 parátros\n",
    "    '''\n",
    "    valorOrigen = 0\n",
    "    valorDestino = 0\n",
    "    destinoIncorrecto = 'Parámetro de destino incorrecto'\n",
    "    origenIncorrecto = 'Parámetro de origen incorrecto'\n",
    "    \n",
    "    if (origen == 'celsius'):\n",
    "        if (destino == 'celsius'):\n",
    "            valorDestino = valor\n",
    "        elif (destino == 'farenheit'):\n",
    "            valorDestino = ((valor * 9 / 5) + 32)\n",
    "        elif (destino == 'kelvin'):\n",
    "            valorDestino = valor + 273.15\n",
    "        else:\n",
    "            print(destinoIncorrecto)\n",
    "    elif (origen == 'farenheit'):\n",
    "        if (destino == 'celsius'):\n",
    "            valorDestino = ((valor - 32) * 5 / 9)\n",
    "        elif (destino == 'farenheit'):\n",
    "            valorDestino = valor\n",
    "        elif (destino == 'kelvin'):\n",
    "            valorDestino = (((valor - 32) * 5 / 9) + 273.15)\n",
    "        else: \n",
    "            print(destinoIncorrecto)\n",
    "    elif (origen == 'kelvin'):\n",
    "        if (destino == 'celsius'):\n",
    "            valorDestino = valor - 273.15\n",
    "        elif (destino == 'farenheit'):\n",
    "            valorDestino = ((valor - 273.15) - 32) * 5 / 9\n",
    "        elif (destino == 'kelvin'):\n",
    "            valorDestino = valor\n",
    "        else:\n",
    "            print(destinoIncorrecto)\n",
    "    else: \n",
    "        print(origenIncorrecto)\n",
    "    return(valorDestino)"
   ]
  },
  {
   "cell_type": "code",
   "execution_count": 32,
   "metadata": {},
   "outputs": [
    {
     "name": "stdout",
     "output_type": "stream",
     "text": [
      "1 grado Celsius a Celsius: 1\n",
      "1 grado Celsius a Kelvin: 274.15\n",
      "1 grado Celsius a Farenheit: 33.8\n",
      "1 grado Kelvin a Celsius: -272.15\n",
      "1 grado Kelvin a Kelvin: 1\n",
      "1 grado Kelvin a Farenheit: -168.97222222222223\n",
      "1 grado Farenheit a Celsius: -17.22222222222222\n",
      "1 grado Farenheit a Kelvin: 255.92777777777775\n",
      "1 grado Farenheit a Farenheit: 1\n"
     ]
    }
   ],
   "source": [
    "print('1 grado Celsius a Celsius:', conversionGrados(1, 'celsius', 'celsius'))\n",
    "print('1 grado Celsius a Kelvin:', conversionGrados(1, 'celsius', 'kelvin'))\n",
    "print('1 grado Celsius a Farenheit:', conversionGrados(1, 'celsius', 'farenheit'))\n",
    "print('1 grado Kelvin a Celsius:', conversionGrados(1, 'kelvin', 'celsius'))\n",
    "print('1 grado Kelvin a Kelvin:', conversionGrados(1, 'kelvin', 'kelvin'))\n",
    "print('1 grado Kelvin a Farenheit:', conversionGrados(1, 'kelvin', 'farenheit'))\n",
    "print('1 grado Farenheit a Celsius:', conversionGrados(1, 'farenheit', 'celsius'))\n",
    "print('1 grado Farenheit a Kelvin:', conversionGrados(1, 'farenheit', 'kelvin'))\n",
    "print('1 grado Farenheit a Farenheit:', conversionGrados(1, 'farenheit', 'farenheit'))"
   ]
  },
  {
   "attachments": {},
   "cell_type": "markdown",
   "metadata": {},
   "source": [
    "6) Iterando una lista con los tres valores posibles de temperatura que recibe la función del punto 5, hacer un print para cada combinación de los mismos:"
   ]
  },
  {
   "cell_type": "code",
   "execution_count": 34,
   "metadata": {},
   "outputs": [
    {
     "name": "stdout",
     "output_type": "stream",
     "text": [
      "1 grado celsius a celsius: 1\n",
      "1 grado celsius a farenheit: 33.8\n",
      "1 grado celsius a kelvin: 274.15\n",
      "1 grado farenheit a celsius: -17.22222222222222\n",
      "1 grado farenheit a farenheit: 1\n",
      "1 grado farenheit a kelvin: 255.92777777777775\n",
      "1 grado kelvin a celsius: -272.15\n",
      "1 grado kelvin a farenheit: -168.97222222222223\n",
      "1 grado kelvin a kelvin: 1\n"
     ]
    }
   ],
   "source": [
    "metricas = ['celsius', 'farenheit', 'kelvin']\n",
    "for i in range(0,3):\n",
    "    for j in range(0,3):\n",
    "        print(f'1 grado {metricas[i]} a {metricas[j]}: {conversionGrados(1, metricas[i], metricas[j])}')"
   ]
  },
  {
   "attachments": {},
   "cell_type": "markdown",
   "metadata": {},
   "source": [
    "7) Armar una función que devuelva el factorial de un número. Tener en cuenta que el usuario puede equivocarse y enviar de parámetro un número no entero o negativo"
   ]
  },
  {
   "cell_type": "code",
   "execution_count": 36,
   "metadata": {},
   "outputs": [
    {
     "name": "stdout",
     "output_type": "stream",
     "text": [
      "6\n",
      "El número debe ser positivo\n",
      "El número debe ser entero\n",
      "El número debe ser entero\n"
     ]
    }
   ],
   "source": [
    "def factorial(numero):\n",
    "    if (type(numero) != int):\n",
    "        return 'El número debe ser entero'\n",
    "    if (numero < 0):\n",
    "        return 'El número debe ser positivo'\n",
    "    if (numero > 1):\n",
    "        numero = numero + factorial(numero-1)\n",
    "    return numero\n",
    "print(factorial(3))\n",
    "print(factorial(-2))\n",
    "print(factorial(1.23))\n",
    "print(factorial('6'))"
   ]
  },
  {
   "cell_type": "code",
   "execution_count": null,
   "metadata": {},
   "outputs": [],
   "source": []
  }
 ],
 "metadata": {
  "interpreter": {
   "hash": "c85384e4cb51c8b72350f3a8712cc8351fdc3955e32a27f9b60c6242ab125f01"
  },
  "kernelspec": {
   "display_name": "Python 3 (ipykernel)",
   "language": "python",
   "name": "python3"
  },
  "language_info": {
   "codemirror_mode": {
    "name": "ipython",
    "version": 3
   },
   "file_extension": ".py",
   "mimetype": "text/x-python",
   "name": "python",
   "nbconvert_exporter": "python",
   "pygments_lexer": "ipython3",
   "version": "3.10.10"
  }
 },
 "nbformat": 4,
 "nbformat_minor": 4
}
